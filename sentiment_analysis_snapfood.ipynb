{
 "cells": [
  {
   "cell_type": "code",
   "execution_count": 5,
   "id": "ea61ca5a",
   "metadata": {},
   "outputs": [
    {
     "name": "stdout",
     "output_type": "stream",
     "text": [
      "WARNING:tensorflow:From c:\\Users\\Fardin Piroozi\\.conda\\envs\\tf_env\\lib\\site-packages\\tf_keras\\src\\losses.py:2976: The name tf.losses.sparse_softmax_cross_entropy is deprecated. Please use tf.compat.v1.losses.sparse_softmax_cross_entropy instead.\n",
      "\n"
     ]
    }
   ],
   "source": [
    "from hazm import Normalizer, word_tokenize, Lemmatizer, stopwords_list, Stemmer\n",
    "from sklearn.preprocessing import LabelEncoder\n",
    "import pandas as pd\n",
    "import swifter  \n",
    "import re\n",
    "import joblib\n",
    "import numpy as np\n",
    "import matplotlib.pyplot as plt\n",
    "\n",
    "import xgboost as xgb\n",
    "\n",
    "from sklearn.feature_extraction.text import TfidfVectorizer\n",
    "from sklearn.model_selection import train_test_split\n",
    "from sklearn.linear_model import LogisticRegression\n",
    "from sklearn.metrics import classification_report\n",
    "from sklearn.model_selection import GridSearchCV\n",
    "from sklearn.ensemble import RandomForestClassifier\n",
    "import tensorflow as tf\n",
    "from tensorflow.keras.preprocessing.text import Tokenizer\n",
    "from tensorflow.keras.preprocessing.sequence import pad_sequences\n",
    "from tensorflow.keras.callbacks import EarlyStopping\n",
    "\n",
    "from datasets import Dataset\n",
    "from transformers import AutoTokenizer, AutoModelForSequenceClassification, TrainingArguments, Trainer\n"
   ]
  },
  {
   "cell_type": "code",
   "execution_count": 6,
   "id": "0992847c",
   "metadata": {},
   "outputs": [],
   "source": [
    "df=pd.read_excel('Data/Snappfood - Sentiment Analysis.xlsx')"
   ]
  },
  {
   "cell_type": "code",
   "execution_count": 7,
   "id": "bd6f16e4",
   "metadata": {},
   "outputs": [
    {
     "data": {
      "text/html": [
       "<div>\n",
       "<style scoped>\n",
       "    .dataframe tbody tr th:only-of-type {\n",
       "        vertical-align: middle;\n",
       "    }\n",
       "\n",
       "    .dataframe tbody tr th {\n",
       "        vertical-align: top;\n",
       "    }\n",
       "\n",
       "    .dataframe thead th {\n",
       "        text-align: right;\n",
       "    }\n",
       "</style>\n",
       "<table border=\"1\" class=\"dataframe\">\n",
       "  <thead>\n",
       "    <tr style=\"text-align: right;\">\n",
       "      <th></th>\n",
       "      <th>comment</th>\n",
       "      <th>label</th>\n",
       "    </tr>\n",
       "  </thead>\n",
       "  <tbody>\n",
       "    <tr>\n",
       "      <th>0</th>\n",
       "      <td>واقعا حیف وقت که بنویسم سرویس دهیتون شده افتضاح</td>\n",
       "      <td>SAD</td>\n",
       "    </tr>\n",
       "    <tr>\n",
       "      <th>1</th>\n",
       "      <td>قرار بود ۱ ساعته برسه ولی نیم ساعت زودتر از مو...</td>\n",
       "      <td>HAPPY</td>\n",
       "    </tr>\n",
       "    <tr>\n",
       "      <th>2</th>\n",
       "      <td>قیمت این مدل اصلا با کیفیتش سازگاری نداره، فقط...</td>\n",
       "      <td>SAD</td>\n",
       "    </tr>\n",
       "    <tr>\n",
       "      <th>3</th>\n",
       "      <td>عالللی بود همه چه درست و به اندازه و کیفیت خوب...</td>\n",
       "      <td>HAPPY</td>\n",
       "    </tr>\n",
       "    <tr>\n",
       "      <th>4</th>\n",
       "      <td>شیرینی وانیلی فقط یک مدل بود.</td>\n",
       "      <td>HAPPY</td>\n",
       "    </tr>\n",
       "  </tbody>\n",
       "</table>\n",
       "</div>"
      ],
      "text/plain": [
       "                                             comment  label\n",
       "0    واقعا حیف وقت که بنویسم سرویس دهیتون شده افتضاح    SAD\n",
       "1  قرار بود ۱ ساعته برسه ولی نیم ساعت زودتر از مو...  HAPPY\n",
       "2  قیمت این مدل اصلا با کیفیتش سازگاری نداره، فقط...    SAD\n",
       "3  عالللی بود همه چه درست و به اندازه و کیفیت خوب...  HAPPY\n",
       "4                      شیرینی وانیلی فقط یک مدل بود.  HAPPY"
      ]
     },
     "execution_count": 7,
     "metadata": {},
     "output_type": "execute_result"
    }
   ],
   "source": [
    "df=df[['comment','label']]\n",
    "df.head()"
   ]
  },
  {
   "cell_type": "code",
   "execution_count": 8,
   "id": "2796f4a3",
   "metadata": {},
   "outputs": [],
   "source": [
    "le=LabelEncoder()\n",
    "\n",
    "df['label']=le.fit_transform(df['label'])\n"
   ]
  },
  {
   "cell_type": "markdown",
   "id": "b3a4626f",
   "metadata": {},
   "source": [
    "## Preprocessing"
   ]
  },
  {
   "cell_type": "code",
   "execution_count": 9,
   "id": "e5948b60",
   "metadata": {},
   "outputs": [],
   "source": [
    "normalizer = Normalizer()\n",
    "lemmatizer = Lemmatizer()\n",
    "stopwords = set(stopwords_list())\n",
    "\n",
    "def preprocess(text):\n",
    "\n",
    "    text = normalizer.normalize(text)\n",
    "\n",
    "    # Remove Latin chars, digits, symbols, emojis, and punctuation\n",
    "    text = re.sub(r'[\\u0000-\\u007F\\u200c\\u200f]', ' ', text)  \n",
    "    text = re.sub(r'[^\\u0600-\\u06FF\\s]', ' ', text)\n",
    "\n",
    "    # Remove repeating characters (e.g. خخخخ or عالییییی)\n",
    "    text = re.sub(r'(.)\\1{2,}', r'\\1', text)\n",
    "\n",
    "    # Remove extra whitespace\n",
    "    text = re.sub(r'\\s+', ' ', text).strip()\n",
    "\n",
    "    tokens = word_tokenize(text)\n",
    "    lemmatized = [\n",
    "        lemmatizer.lemmatize(token) for token in tokens\n",
    "        if token not in stopwords and len(token) > 1\n",
    "    ]\n",
    "\n",
    "    return ' '.join(lemmatized)\n"
   ]
  },
  {
   "cell_type": "code",
   "execution_count": 10,
   "id": "c14e9ccc",
   "metadata": {},
   "outputs": [
    {
     "name": "stderr",
     "output_type": "stream",
     "text": [
      "Pandas Apply: 100%|██████████| 70000/70000 [00:22<00:00, 3085.57it/s]\n"
     ]
    }
   ],
   "source": [
    "df['clean_comment'] = df['comment'].astype(str).swifter.apply(preprocess)"
   ]
  },
  {
   "cell_type": "code",
   "execution_count": 12,
   "id": "9aea8ce5",
   "metadata": {},
   "outputs": [],
   "source": [
    "df.to_csv('Data/cleaned_reviews.csv',index=False)"
   ]
  },
  {
   "cell_type": "code",
   "execution_count": 13,
   "id": "00b67d4f",
   "metadata": {},
   "outputs": [],
   "source": [
    "vectorizer=TfidfVectorizer()\n",
    "X=vectorizer.fit_transform(df['clean_comment'])\n",
    "y=df['label']"
   ]
  },
  {
   "cell_type": "markdown",
   "id": "13c41f2b",
   "metadata": {},
   "source": [
    "## Model training"
   ]
  },
  {
   "cell_type": "code",
   "execution_count": 14,
   "id": "b1f17f19",
   "metadata": {},
   "outputs": [
    {
     "name": "stdout",
     "output_type": "stream",
     "text": [
      "              precision    recall  f1-score   support\n",
      "\n",
      "           0       0.84      0.79      0.81      6982\n",
      "           1       0.80      0.85      0.82      7018\n",
      "\n",
      "    accuracy                           0.82     14000\n",
      "   macro avg       0.82      0.82      0.82     14000\n",
      "weighted avg       0.82      0.82      0.82     14000\n",
      "\n"
     ]
    }
   ],
   "source": [
    "X_train,X_test,y_train,y_test=train_test_split(X,y,test_size=0.2,random_state=42)\n",
    "\n",
    "lr=LogisticRegression(max_iter=1000)\n",
    "lr.fit(X_train,y_train)\n",
    "\n",
    "pred=lr.predict(X_test)\n",
    "print(classification_report(y_test,pred))"
   ]
  },
  {
   "cell_type": "code",
   "execution_count": 15,
   "id": "b5bda4c4",
   "metadata": {},
   "outputs": [
    {
     "name": "stdout",
     "output_type": "stream",
     "text": [
      "              precision    recall  f1-score   support\n",
      "\n",
      "           0       0.82      0.78      0.80      6982\n",
      "           1       0.79      0.83      0.81      7018\n",
      "\n",
      "    accuracy                           0.80     14000\n",
      "   macro avg       0.80      0.80      0.80     14000\n",
      "weighted avg       0.80      0.80      0.80     14000\n",
      "\n"
     ]
    }
   ],
   "source": [
    "model = xgb.XGBClassifier(eval_metric=\"mlogloss\")\n",
    "model.fit(X_train, y_train)\n",
    "\n",
    "y_pred = model.predict(X_test)\n",
    "print(classification_report(y_test, y_pred))\n"
   ]
  },
  {
   "cell_type": "code",
   "execution_count": null,
   "id": "401c5df5",
   "metadata": {},
   "outputs": [],
   "source": [
    "rnd_clf=RandomForestClassifier()\n",
    "rnd_clf.fit(X_train,y_train)\n",
    "\n",
    "y_pred=rnd_clf.predict(X_test)\n",
    "print(classification_report(y_test,y_pred))"
   ]
  },
  {
   "cell_type": "markdown",
   "id": "c3f712bf",
   "metadata": {},
   "source": [
    "## Deep learning"
   ]
  },
  {
   "cell_type": "code",
   "execution_count": null,
   "id": "4cd22b79",
   "metadata": {},
   "outputs": [],
   "source": [
    "normalizer = Normalizer()\n",
    "lemmatizer = Lemmatizer()\n",
    "stemmer = Stemmer()\n",
    "stopwords = set(stopwords_list())\n",
    "\n",
    "def preprocess2(text):\n",
    "    text = normalizer.normalize(text)\n",
    "\n",
    "    # Convert English digits to Persian (optional for user-generated content)\n",
    "    text = re.sub(r'\\d+', '', text)\n",
    "\n",
    "    # Preserve key punctuation (!, ؟) that conveys emotion\n",
    "    text = re.sub(r'[^\\u0600-\\u06FF\\u061F\\u0621\\s!؟]', ' ', text)\n",
    "\n",
    "    # Normalize stretched text: عالییییی → عالی\n",
    "    text = re.sub(r'(.)\\1{2,}', r'\\1', text)\n",
    "\n",
    "    tokens = word_tokenize(text)\n",
    "\n",
    "    # Filter + stem + lemmatize\n",
    "    processed = []\n",
    "    for token in tokens:\n",
    "        if token not in stopwords and len(token) > 1:\n",
    "            stemmed = stemmer.stem(token)\n",
    "            lemma = lemmatizer.lemmatize(stemmed)\n",
    "            processed.append(lemma)\n",
    "\n",
    "    return ' '.join(processed)\n"
   ]
  },
  {
   "cell_type": "code",
   "execution_count": 100,
   "id": "a178bb78",
   "metadata": {},
   "outputs": [
    {
     "data": {
      "application/vnd.jupyter.widget-view+json": {
       "model_id": "120c3de703174831a09af1516c9dddaf",
       "version_major": 2,
       "version_minor": 0
      },
      "text/plain": [
       "Pandas Apply:   0%|          | 0/70000 [00:00<?, ?it/s]"
      ]
     },
     "metadata": {},
     "output_type": "display_data"
    }
   ],
   "source": [
    "df['clean_comment'] = df['comment'].astype(str).swifter.apply(preprocess2)\n",
    "\n",
    "# Tokenizer\n",
    "tokenizer = Tokenizer(num_words=10000, oov_token='<UNK>')\n",
    "tokenizer.fit_on_texts(df['clean_comment'])\n",
    "\n",
    "# Sequences\n",
    "sequences = tokenizer.texts_to_sequences(df['clean_comment'])\n",
    "\n",
    "# Smart max length (95th percentile)\n",
    "lengths = [len(seq) for seq in sequences]\n",
    "maxlen = int(np.percentile(lengths, 95))\n",
    "\n",
    "X = pad_sequences(sequences, maxlen=maxlen, padding='post', truncating='post')\n",
    "y = df['label']\n"
   ]
  },
  {
   "cell_type": "code",
   "execution_count": 93,
   "id": "0f0ddac4",
   "metadata": {},
   "outputs": [],
   "source": [
    "X_train, X_temp, y_train, y_temp = train_test_split(X, y, test_size=0.2, stratify=y, random_state=42)\n",
    "X_val, X_test, y_val, y_test = train_test_split(X_temp, y_temp, test_size=0.5, stratify=y_temp, random_state=42)"
   ]
  },
  {
   "cell_type": "code",
   "execution_count": 103,
   "id": "9f5749aa",
   "metadata": {},
   "outputs": [
    {
     "name": "stderr",
     "output_type": "stream",
     "text": [
      "C:\\Users\\Fardin Piroozi\\AppData\\Roaming\\Python\\Python310\\site-packages\\keras\\src\\layers\\core\\embedding.py:97: UserWarning: Argument `input_length` is deprecated. Just remove it.\n",
      "  warnings.warn(\n"
     ]
    }
   ],
   "source": [
    "\n",
    "vocab_size = len(tokenizer.word_index) + 1\n",
    "\n",
    "model = tf.keras.Sequential([\n",
    "    tf.keras.layers.Embedding(input_dim=vocab_size, output_dim=128, input_length=maxlen),\n",
    "    tf.keras.layers.Conv1D(64, kernel_size=5, activation='relu'),\n",
    "    tf.keras.layers.Dropout(0.3),\n",
    "    tf.keras.layers.Bidirectional(tf.keras.layers.LSTM(64)),\n",
    "    tf.keras.layers.Dropout(0.3),\n",
    "    tf.keras.layers.Dense(64, activation='relu',kernel_regularizer=tf.keras.regularizers.l2(0.001)),\n",
    "    tf.keras.layers.Dropout(0.3),\n",
    "    tf.keras.layers.Dense(1, activation='sigmoid')\n",
    "])\n"
   ]
  },
  {
   "cell_type": "code",
   "execution_count": null,
   "id": "fc536a7b",
   "metadata": {},
   "outputs": [
    {
     "name": "stdout",
     "output_type": "stream",
     "text": [
      "Epoch 1/10\n",
      "\u001b[1m   1/1750\u001b[0m \u001b[37m━━━━━━━━━━━━━━━━━━━━\u001b[0m \u001b[1m29:07:21\u001b[0m 60s/step - accuracy: 0.4062 - loss: 0.7824"
     ]
    }
   ],
   "source": [
    "model.compile(\n",
    "    loss='binary_crossentropy',\n",
    "    optimizer=tf.keras.optimizers.Adam(learning_rate=1e-4),\n",
    "    metrics=['accuracy']\n",
    ")\n",
    "\n",
    "early_stop = EarlyStopping(\n",
    "    monitor='val_loss',\n",
    "    patience=3,\n",
    "    restore_best_weights=True\n",
    ")\n",
    "\n",
    "history = model.fit(\n",
    "    X_train, y_train,\n",
    "    validation_data=(X_val, y_val),\n",
    "    epochs=10,\n",
    "    batch_size=32,\n",
    "    callbacks=[early_stop],\n",
    "    verbose=1\n",
    ")\n"
   ]
  },
  {
   "cell_type": "code",
   "execution_count": 90,
   "id": "d4858890",
   "metadata": {},
   "outputs": [
    {
     "data": {
      "image/png": "[encoded data removed]",
      "text/plain": [
       "<Figure size 640x480 with 1 Axes>"
      ]
     },
     "metadata": {},
     "output_type": "display_data"
    }
   ],
   "source": [
    "plt.figure()\n",
    "plt.plot(pd.DataFrame(history.history['val_accuracy']),label='val_acc')\n",
    "plt.plot(pd.DataFrame(history.history['accuracy']),label='acc')\n",
    "plt.legend()\n",
    "plt.show()"
   ]
  },
  {
   "cell_type": "code",
   "execution_count": 69,
   "id": "81532d33",
   "metadata": {},
   "outputs": [
    {
     "name": "stdout",
     "output_type": "stream",
     "text": [
      "\u001b[1m219/219\u001b[0m \u001b[32m━━━━━━━━━━━━━━━━━━━━\u001b[0m\u001b[37m\u001b[0m \u001b[1m1s\u001b[0m 5ms/step - accuracy: 0.8206 - loss: 0.4088\n",
      "Test Accuracy: 0.824\n"
     ]
    }
   ],
   "source": [
    "loss, acc = model.evaluate(X_test, y_test)\n",
    "print(f\"Test Accuracy: {acc:.3f}\")\n"
   ]
  },
  {
   "cell_type": "code",
   "execution_count": null,
   "id": "4035164d",
   "metadata": {},
   "outputs": [],
   "source": []
  }
 ],
 "metadata": {
  "kernelspec": {
   "display_name": "Python 3",
   "language": "python",
   "name": "python3"
  },
  "language_info": {
   "codemirror_mode": {
    "name": "ipython",
    "version": 3
   },
   "file_extension": ".py",
   "mimetype": "text/x-python",
   "name": "python",
   "nbconvert_exporter": "python",
   "pygments_lexer": "ipython3",
   "version": "3.9.21"
  }
 },
 "nbformat": 4,
 "nbformat_minor": 5
}
